{
 "cells": [
  {
   "cell_type": "code",
   "execution_count": 29,
   "id": "dd92373f-11f0-48c5-8c7a-e1e7353ac7de",
   "metadata": {},
   "outputs": [],
   "source": [
    "import os\n",
    "\n",
    "from astropy.io import fits\n",
    "\n",
    "from matplotlib.colors import LogNorm\n",
    "import matplotlib.pyplot as plt\n",
    "\n",
    "import numpy as np\n",
    "\n",
    "import pandas as pd\n",
    "\n",
    "import pytorch_lightning as pl\n",
    "from pytorch_lightning.callbacks import LearningRateMonitor, progress\n",
    "from pytorch_lightning.callbacks.early_stopping import EarlyStopping\n",
    "\n",
    "from sklearn.metrics import roc_curve, roc_auc_score\n",
    "from sklearn.model_selection import train_test_split\n",
    "\n",
    "import torch\n",
    "from torch import nn, Tensor\n",
    "import torch.optim as optim\n",
    "from torch.optim.lr_scheduler import MultiStepLR\n",
    "from torch.utils.data import DataLoader, Dataset, RandomSampler, random_split\n",
    "\n",
    "import torchmetrics\n",
    "\n",
    "import torchvision\n",
    "import torchvision.transforms.v2 as T"
   ]
  },
  {
   "cell_type": "code",
   "execution_count": 2,
   "id": "e7eaa568-7ac6-4d83-a867-a22d7c8f0ced",
   "metadata": {},
   "outputs": [],
   "source": [
    "torch.manual_seed(123)\n",
    "np.random.seed(123)"
   ]
  },
  {
   "cell_type": "code",
   "execution_count": 3,
   "id": "2c30ce89-0935-443a-87b6-a415fde5a999",
   "metadata": {},
   "outputs": [
    {
     "data": {
      "text/html": [
       "<div>\n",
       "<style scoped>\n",
       "    .dataframe tbody tr th:only-of-type {\n",
       "        vertical-align: middle;\n",
       "    }\n",
       "\n",
       "    .dataframe tbody tr th {\n",
       "        vertical-align: top;\n",
       "    }\n",
       "\n",
       "    .dataframe thead th {\n",
       "        text-align: right;\n",
       "    }\n",
       "</style>\n",
       "<table border=\"1\" class=\"dataframe\">\n",
       "  <thead>\n",
       "    <tr style=\"text-align: right;\">\n",
       "      <th></th>\n",
       "      <th>run</th>\n",
       "      <th>n</th>\n",
       "      <th>m1</th>\n",
       "      <th>r1</th>\n",
       "      <th>m2</th>\n",
       "      <th>r2</th>\n",
       "      <th>m3</th>\n",
       "      <th>r3</th>\n",
       "      <th>m4</th>\n",
       "      <th>r4</th>\n",
       "    </tr>\n",
       "  </thead>\n",
       "  <tbody>\n",
       "    <tr>\n",
       "      <th>0</th>\n",
       "      <td>0.0</td>\n",
       "      <td>3.0</td>\n",
       "      <td>0.001738</td>\n",
       "      <td>17.433073</td>\n",
       "      <td>0.004807</td>\n",
       "      <td>56.217795</td>\n",
       "      <td>0.001016</td>\n",
       "      <td>66.676827</td>\n",
       "      <td>0.000000</td>\n",
       "      <td>0.000000</td>\n",
       "    </tr>\n",
       "    <tr>\n",
       "      <th>1</th>\n",
       "      <td>1.0</td>\n",
       "      <td>4.0</td>\n",
       "      <td>0.000359</td>\n",
       "      <td>64.147071</td>\n",
       "      <td>0.000192</td>\n",
       "      <td>100.943570</td>\n",
       "      <td>0.000016</td>\n",
       "      <td>118.540489</td>\n",
       "      <td>0.000497</td>\n",
       "      <td>134.070028</td>\n",
       "    </tr>\n",
       "    <tr>\n",
       "      <th>2</th>\n",
       "      <td>2.0</td>\n",
       "      <td>3.0</td>\n",
       "      <td>0.000639</td>\n",
       "      <td>54.386533</td>\n",
       "      <td>0.000672</td>\n",
       "      <td>92.352140</td>\n",
       "      <td>0.002246</td>\n",
       "      <td>152.530577</td>\n",
       "      <td>0.000000</td>\n",
       "      <td>0.000000</td>\n",
       "    </tr>\n",
       "    <tr>\n",
       "      <th>3</th>\n",
       "      <td>3.0</td>\n",
       "      <td>0.0</td>\n",
       "      <td>0.000000</td>\n",
       "      <td>0.000000</td>\n",
       "      <td>0.000000</td>\n",
       "      <td>0.000000</td>\n",
       "      <td>0.000000</td>\n",
       "      <td>0.000000</td>\n",
       "      <td>0.000000</td>\n",
       "      <td>0.000000</td>\n",
       "    </tr>\n",
       "    <tr>\n",
       "      <th>4</th>\n",
       "      <td>4.0</td>\n",
       "      <td>4.0</td>\n",
       "      <td>0.000053</td>\n",
       "      <td>24.550451</td>\n",
       "      <td>0.000327</td>\n",
       "      <td>35.877340</td>\n",
       "      <td>0.000114</td>\n",
       "      <td>40.213780</td>\n",
       "      <td>0.000283</td>\n",
       "      <td>122.145050</td>\n",
       "    </tr>\n",
       "  </tbody>\n",
       "</table>\n",
       "</div>"
      ],
      "text/plain": [
       "   run    n        m1         r1        m2          r2        m3          r3  \\\n",
       "0  0.0  3.0  0.001738  17.433073  0.004807   56.217795  0.001016   66.676827   \n",
       "1  1.0  4.0  0.000359  64.147071  0.000192  100.943570  0.000016  118.540489   \n",
       "2  2.0  3.0  0.000639  54.386533  0.000672   92.352140  0.002246  152.530577   \n",
       "3  3.0  0.0  0.000000   0.000000  0.000000    0.000000  0.000000    0.000000   \n",
       "4  4.0  4.0  0.000053  24.550451  0.000327   35.877340  0.000114   40.213780   \n",
       "\n",
       "         m4          r4  \n",
       "0  0.000000    0.000000  \n",
       "1  0.000497  134.070028  \n",
       "2  0.000000    0.000000  \n",
       "3  0.000000    0.000000  \n",
       "4  0.000283  122.145050  "
      ]
     },
     "execution_count": 3,
     "metadata": {},
     "output_type": "execute_result"
    }
   ],
   "source": [
    "label_df = pd.read_csv(\"train_info.csv\").drop(\"Unnamed: 0\", axis=1)\n",
    "label_df.head()"
   ]
  },
  {
   "cell_type": "code",
   "execution_count": 4,
   "id": "72ee0544-8e21-4b7e-ac61-17605cc79581",
   "metadata": {},
   "outputs": [
    {
     "data": {
      "text/plain": [
       "array(['planet811_00218_1250.fits', 'planet6_00704_1250.fits',\n",
       "       'planet837_00018_1250.fits', 'planet70_00322_1250.fits',\n",
       "       'planet14_00528_1250.fits'], dtype='<U25')"
      ]
     },
     "execution_count": 4,
     "metadata": {},
     "output_type": "execute_result"
    }
   ],
   "source": [
    "data_names = os.listdir(\"Full_Train_Data\")\n",
    "data_names = np.array([x for x in data_names if \".fits\" in x])\n",
    "data_names[:5]"
   ]
  },
  {
   "cell_type": "code",
   "execution_count": 5,
   "id": "186a1ba9-e8db-466f-8d44-f5a993372aa0",
   "metadata": {},
   "outputs": [],
   "source": [
    "run_nums = np.array([int(x.split(\"planet\")[1].split(\"_\")[0]) for x in data_names])\n",
    "order = np.argsort(run_nums)\n",
    "run_nums = run_nums[order]\n",
    "data_names = data_names[order]"
   ]
  },
  {
   "cell_type": "code",
   "execution_count": 6,
   "id": "807fc3d5-07d1-4445-82b3-0645939d5e1a",
   "metadata": {},
   "outputs": [],
   "source": [
    "runs = label_df.run.to_numpy()\n",
    "Ns = label_df.n.to_numpy()"
   ]
  },
  {
   "cell_type": "code",
   "execution_count": 7,
   "id": "42f5013d-157d-4b87-9c54-dd4f2a509469",
   "metadata": {},
   "outputs": [],
   "source": [
    "labels = {}\n",
    "nums = {}\n",
    "for (name, run) in zip(data_names, run_nums):\n",
    "    label = Ns[np.where(runs == run)][0]\n",
    "    nums[name] = int(label)\n",
    "    labels[name] = int(label > 0)"
   ]
  },
  {
   "cell_type": "code",
   "execution_count": 49,
   "id": "78539c35-84cc-4df1-b9ac-156d17d839db",
   "metadata": {},
   "outputs": [],
   "source": [
    "data = {}\n",
    "for name in data_names:\n",
    "    data[name] = fits.open(f\"Full_Train_Data/{name}\")[0].data.squeeze()[0]\n",
    "    # normalize\n",
    "    data[name] -= np.min(data[name])\n",
    "    data[name] /= np.max(data[name])"
   ]
  },
  {
   "cell_type": "code",
   "execution_count": 52,
   "id": "3f9c657d-ecb7-4f3d-b8aa-ed15eb0b74e3",
   "metadata": {},
   "outputs": [],
   "source": [
    "xy_dim = data[data_names[0]].shape[1]\n",
    "X = np.empty((len(data_names), 3, xy_dim, xy_dim))\n",
    "y = np.empty((len(data_names), 1))"
   ]
  },
  {
   "cell_type": "code",
   "execution_count": 53,
   "id": "902453be-a794-41a1-942e-628859193fff",
   "metadata": {},
   "outputs": [],
   "source": [
    "# load images and labels\n",
    "for i, name in enumerate(data_names):\n",
    "    X[i, :, :] = data[name]\n",
    "    y[i, 0] = labels[name]"
   ]
  },
  {
   "cell_type": "code",
   "execution_count": 54,
   "id": "052bd69d-4ca6-4f0a-8038-4c1bc103191d",
   "metadata": {},
   "outputs": [],
   "source": [
    "X = X.astype(np.float32)\n",
    "y = y.astype(np.float32)"
   ]
  },
  {
   "cell_type": "code",
   "execution_count": 55,
   "id": "b49c0a6a-40d0-47a1-b15d-b3e8de7430f7",
   "metadata": {},
   "outputs": [],
   "source": [
    "test_split = 0.2\n",
    "val_split = 0.2\n",
    "\n",
    "X_train, X_test, y_train, y_test = train_test_split(X, y, test_size=test_split)\n",
    "X_train, X_val, y_train, y_val = train_test_split(X_train, y_train, test_size=val_split)"
   ]
  },
  {
   "cell_type": "code",
   "execution_count": 56,
   "id": "e949d795-eb3b-487b-b0d2-b3a461d1135d",
   "metadata": {},
   "outputs": [],
   "source": [
    "class DiskDataset(Dataset):\n",
    "\n",
    "    \"\"\"Data loader\"\"\"\n",
    "\n",
    "    def __init__(\n",
    "        self,\n",
    "        X: np.ndarray,\n",
    "        y: np.ndarray,\n",
    "        transform: list = None,\n",
    "        accelerator_name: str = \"mps\",\n",
    "        num_workers: int = 13,\n",
    "    ) -> None:\n",
    "\n",
    "        self.X = X\n",
    "        self.y = y\n",
    "        self.transform = transform\n",
    "        self.num_workers = num_workers\n",
    "        \n",
    "        if accelerator_name == \"mps\":\n",
    "            self.device = torch.device(\"mps\" if torch.backends.mps.is_available() else \"cpu\")\n",
    "        elif accelerator_name == \"cuda:0\":\n",
    "            self.device = torch.device(\"cuda:0\" if torch.cuda.is_available() else \"cpu\")\n",
    "\n",
    "    def __len__(self) -> int:\n",
    "        return len(self.X)\n",
    "\n",
    "    def __getitem__(self, idx) -> torch.Tensor:\n",
    "        x_, y_ = self.X[idx], self.y[idx]\n",
    "\n",
    "        x_, y_ = torch.from_numpy(x_),\\\n",
    "                torch.from_numpy(y_)\n",
    "\n",
    "        if self.transform:\n",
    "            x_ = self.transform(x_)\n",
    "        return x_.to(self.device), y_.to(self.device)"
   ]
  },
  {
   "cell_type": "code",
   "execution_count": 57,
   "id": "414b361f-909b-453d-ac34-c9b53f2f2895",
   "metadata": {},
   "outputs": [],
   "source": [
    "input_size = 380\n",
    "transform = T.Compose([\n",
    "                        T.Resize((input_size, input_size), antialias=True),\n",
    "                        T.Normalize(mean=[0.5], std=[0.5]),\n",
    "])\n",
    "\n",
    "train_transform = T.Compose(\n",
    "    [\n",
    "        T.AugMix(),\n",
    "        transform,\n",
    "    ]\n",
    ")"
   ]
  },
  {
   "cell_type": "code",
   "execution_count": 58,
   "id": "8c15a4ee-6796-4d3e-8af3-10e8a96c09e8",
   "metadata": {},
   "outputs": [],
   "source": [
    "train_data = DiskDataset(X_train, y_train, transform=train_transform)\n",
    "val_data = DiskDataset(X_val, y_val, transform=transform)\n",
    "test_data = DiskDataset(X_test, y_test, transform=transform)"
   ]
  },
  {
   "cell_type": "code",
   "execution_count": 59,
   "id": "9c4f149d-fbd2-483c-b79f-74224596e4bb",
   "metadata": {},
   "outputs": [],
   "source": [
    "batch_size = 32\n",
    "\n",
    "# make the loader\n",
    "train_loader = DataLoader(train_data, shuffle=True, batch_size=batch_size)#, num_workers=13)\n",
    "val_loader = DataLoader(val_data, batch_size=batch_size)#, num_workers=13)"
   ]
  },
  {
   "cell_type": "code",
   "execution_count": 60,
   "id": "f507fa9f-eb34-4b90-a722-12b339c06f5d",
   "metadata": {},
   "outputs": [],
   "source": [
    "class CustomEfficientNetV2(pl.LightningModule):\n",
    "    def __init__(self,\n",
    "                 num_channels: int = 1,\n",
    "                 num_outputs: int = 1,\n",
    "                 lr: float = 1e-4,\n",
    "                 xy_dim: int = 380,\n",
    "                ):\n",
    "        super().__init__()\n",
    "        self.save_hyperparameters()\n",
    "\n",
    "        # Load EfficientNetV2 model\n",
    "        self.model = torchvision.models.efficientnet_v2_s()\n",
    "\n",
    "        # Modify the first convolutional layer if input channels are different from 3\n",
    "        if num_channels != 3:\n",
    "            self.model.features[0][0] = nn.Conv2d(num_channels,\n",
    "                                                  self.model.features[0][0].out_channels,\n",
    "                                                  kernel_size=self.model.features[0][0].kernel_size,\n",
    "                                                  stride=self.model.features[0][0].stride,\n",
    "                                                  padding=self.model.features[0][0].padding,\n",
    "                                                  bias=False,\n",
    "                                                 )\n",
    "\n",
    "        # Modify the final fully connected layer\n",
    "        in_features = self.model.classifier[1].in_features\n",
    "        self.model.classifier[1] = nn.Linear(in_features, num_outputs)\n",
    "\n",
    "        self.criterion = nn.BCEWithLogitsLoss()\n",
    "\n",
    "        # Initialize containers to store outputs\n",
    "        self.validation_outputs = []\n",
    "        self.test_outputs = []\n",
    "\n",
    "        self.example_input_array = torch.randn((1, num_channels, xy_dim, xy_dim)).float()\n",
    "\n",
    "    def forward(self, x):\n",
    "        return self.model(x)\n",
    "\n",
    "    def _process_batch(self, batch, when: str = \"train\"):\n",
    "        x, y = batch\n",
    "        y_hat = self(x)\n",
    "        loss = self.criterion(y_hat, y)\n",
    "        self.log(f\"{when}_loss\", loss)\n",
    "        if when != \"train\":\n",
    "            return {f\"{when}_loss\": loss, \"y_hat\": y_hat, \"y\": y}\n",
    "        return loss\n",
    "\n",
    "    def training_step(self, batch, batch_idx):\n",
    "        return self._process_batch(batch, when=\"train\")\n",
    "\n",
    "    def validation_step(self, batch, batch_idx):\n",
    "        outputs = self._process_batch(batch, when=\"val\")\n",
    "        self.validation_outputs.append(outputs)\n",
    "        return outputs\n",
    "\n",
    "    def test_step(self, batch, batch_idx):\n",
    "        outputs = self._process_batch(batch, when=\"test\")\n",
    "        self.test_outputs.append(outputs)\n",
    "        return outputs\n",
    "\n",
    "    def configure_optimizers(self):\n",
    "        return torch.optim.AdamW(self.parameters(),\n",
    "                                lr=self.hparams.lr,\n",
    "                               )\n",
    "\n",
    "    def _roc_epoch_end(self, outputs, when: str = \"val\"):\n",
    "        \"\"\"Logs AUC during validation/testing\"\"\"\n",
    "        y_hat = torch.cat([x[\"y_hat\"] for x in outputs]).detach().cpu().numpy()\n",
    "        y = torch.cat([x[\"y\"] for x in outputs]).detach().cpu().numpy()\n",
    "        auc = self.calculate_auc(y_hat, y)\n",
    "        self.log(f\"{when}_auc\", auc)\n",
    "\n",
    "    def on_validation_epoch_end(self,):\n",
    "        self._roc_epoch_end(self.validation_outputs, when=\"val\")\n",
    "        self.validation_outputs.clear()\n",
    "\n",
    "    def on_test_epoch_end(self,):\n",
    "        self._roc_epoch_end(self.test_outputs, when=\"test\")\n",
    "        self.test_outputs.clear()\n",
    "\n",
    "    def calculate_auc(self, y_hat, y):\n",
    "        # Apply sigmoid to predictions if using BCEWithLogitsLoss\n",
    "        y_hat = torch.sigmoid(torch.tensor(y_hat).float()).numpy()\n",
    "        auc = roc_auc_score(y, y_hat)\n",
    "        return np.float32(auc)"
   ]
  },
  {
   "cell_type": "code",
   "execution_count": 61,
   "id": "94653f16-7751-4b97-afbe-ca67fb1a2035",
   "metadata": {},
   "outputs": [],
   "source": [
    "model = CustomEfficientNetV2(xy_dim = input_size)"
   ]
  },
  {
   "cell_type": "code",
   "execution_count": 62,
   "id": "7e4407dd-80ad-45d5-9f8f-5a5fd1836ba4",
   "metadata": {},
   "outputs": [],
   "source": [
    "accelerator_name = \"mps\"\n",
    "\n",
    "if accelerator_name == \"mps\":\n",
    "    device = torch.device(\"mps\" if torch.backends.mps.is_available() else \"cpu\")\n",
    "elif accelerator_name == \"cuda:0\":\n",
    "    device = torch.device(\"cuda:0\" if torch.cuda.is_available() else \"cpu\")\n",
    "else:\n",
    "    device = torch.device(\"cpu\")\n",
    "\n",
    "# Ensure that all operations are deterministic on GPU (if used) for reproducibility\n",
    "torch.backends.cudnn.determinstic = True\n",
    "torch.backends.cudnn.benchmark = False"
   ]
  },
  {
   "cell_type": "code",
   "execution_count": 63,
   "id": "d39d177f-9988-4f92-b51e-237c9f0f80a4",
   "metadata": {},
   "outputs": [],
   "source": [
    "devices = 1\n",
    "accelerator = \"gpu\" if devices == 1 else \"cpu\""
   ]
  },
  {
   "cell_type": "code",
   "execution_count": 64,
   "id": "4f6f57da-6300-4d7f-aa4c-1a65fe455b6b",
   "metadata": {},
   "outputs": [
    {
     "data": {
      "text/plain": [
       "device(type='mps')"
      ]
     },
     "execution_count": 64,
     "metadata": {},
     "output_type": "execute_result"
    }
   ],
   "source": [
    "device"
   ]
  },
  {
   "cell_type": "code",
   "execution_count": 65,
   "id": "9348f45f-f24b-4e76-a692-cb4217c324ac",
   "metadata": {},
   "outputs": [
    {
     "name": "stderr",
     "output_type": "stream",
     "text": [
      "💡 Tip: For seamless cloud uploads and versioning, try installing [litmodels](https://pypi.org/project/litmodels/) to enable LitModelCheckpoint, which syncs automatically with the Lightning model registry.\n",
      "GPU available: True (mps), used: True\n",
      "TPU available: False, using: 0 TPU cores\n",
      "HPU available: False, using: 0 HPUs\n"
     ]
    }
   ],
   "source": [
    "#### This is artificially small for the purposes of speed\n",
    "num_epochs = 30\n",
    "# make the trainer\n",
    "trainer = pl.Trainer(\n",
    "    devices=devices,\n",
    "    accelerator=accelerator,\n",
    "    max_epochs=num_epochs,\n",
    "    log_every_n_steps=1,\n",
    "    callbacks=[\n",
    "        LearningRateMonitor(\"epoch\"),\n",
    "        progress.TQDMProgressBar(refresh_rate=1),\n",
    "        EarlyStopping(\n",
    "            monitor=\"val_auc\",\n",
    "            min_delta=0,\n",
    "            patience=20,\n",
    "            verbose=False,\n",
    "            mode=\"min\",\n",
    "        ),\n",
    "    ],\n",
    ")\n",
    "trainer.logger._log_graph = True\n",
    "trainer.logger._default_hp_metric = None\n",
    "\n"
   ]
  },
  {
   "cell_type": "code",
   "execution_count": 66,
   "id": "1dfcc1e2-2d82-420b-b0fe-a36b677159d6",
   "metadata": {},
   "outputs": [
    {
     "name": "stderr",
     "output_type": "stream",
     "text": [
      "\n",
      "  | Name      | Type              | Params | Mode  | In sizes         | Out sizes\n",
      "---------------------------------------------------------------------------------------\n",
      "0 | model     | EfficientNet      | 20.2 M | train | [1, 3, 380, 380] | [1, 1]   \n",
      "1 | criterion | BCEWithLogitsLoss | 0      | train | ?                | ?        \n",
      "---------------------------------------------------------------------------------------\n",
      "20.2 M    Trainable params\n",
      "0         Non-trainable params\n",
      "20.2 M    Total params\n",
      "80.715    Total estimated model params size (MB)\n",
      "715       Modules in train mode\n",
      "0         Modules in eval mode\n"
     ]
    },
    {
     "data": {
      "application/vnd.jupyter.widget-view+json": {
       "model_id": "4329c65dddb642dcb3a799c5f58ed962",
       "version_major": 2,
       "version_minor": 0
      },
      "text/plain": [
       "Sanity Checking: |                                                                                            …"
      ]
     },
     "metadata": {},
     "output_type": "display_data"
    },
    {
     "name": "stderr",
     "output_type": "stream",
     "text": [
      "/Users/jamesmitchell-white/Documents/GitHub/DeepLearnHackathon/ExoplanetSearchChallenge/.venv/lib/python3.12/site-packages/pytorch_lightning/trainer/connectors/data_connector.py:425: The 'val_dataloader' does not have many workers which may be a bottleneck. Consider increasing the value of the `num_workers` argument` to `num_workers=13` in the `DataLoader` to improve performance.\n",
      "/Users/jamesmitchell-white/Documents/GitHub/DeepLearnHackathon/ExoplanetSearchChallenge/.venv/lib/python3.12/site-packages/pytorch_lightning/trainer/connectors/data_connector.py:425: The 'train_dataloader' does not have many workers which may be a bottleneck. Consider increasing the value of the `num_workers` argument` to `num_workers=13` in the `DataLoader` to improve performance.\n"
     ]
    },
    {
     "data": {
      "application/vnd.jupyter.widget-view+json": {
       "model_id": "89bc333ad6704624991d812f8ae0b7ed",
       "version_major": 2,
       "version_minor": 0
      },
      "text/plain": [
       "Training: |                                                                                                   …"
      ]
     },
     "metadata": {},
     "output_type": "display_data"
    },
    {
     "data": {
      "application/vnd.jupyter.widget-view+json": {
       "model_id": "c02a684b61f949709d7b2856d9f4f9d1",
       "version_major": 2,
       "version_minor": 0
      },
      "text/plain": [
       "Validation: |                                                                                                 …"
      ]
     },
     "metadata": {},
     "output_type": "display_data"
    },
    {
     "data": {
      "application/vnd.jupyter.widget-view+json": {
       "model_id": "d253bede02bf42f19b72dcb257e56f57",
       "version_major": 2,
       "version_minor": 0
      },
      "text/plain": [
       "Validation: |                                                                                                 …"
      ]
     },
     "metadata": {},
     "output_type": "display_data"
    },
    {
     "data": {
      "application/vnd.jupyter.widget-view+json": {
       "model_id": "6ecbd9a192ad4afe807570ed0a2df4ea",
       "version_major": 2,
       "version_minor": 0
      },
      "text/plain": [
       "Validation: |                                                                                                 …"
      ]
     },
     "metadata": {},
     "output_type": "display_data"
    },
    {
     "data": {
      "application/vnd.jupyter.widget-view+json": {
       "model_id": "8aa36fdf3e01481fbd05f3262a594516",
       "version_major": 2,
       "version_minor": 0
      },
      "text/plain": [
       "Validation: |                                                                                                 …"
      ]
     },
     "metadata": {},
     "output_type": "display_data"
    },
    {
     "data": {
      "application/vnd.jupyter.widget-view+json": {
       "model_id": "67210facef504cce8c02d7f729d995b3",
       "version_major": 2,
       "version_minor": 0
      },
      "text/plain": [
       "Validation: |                                                                                                 …"
      ]
     },
     "metadata": {},
     "output_type": "display_data"
    },
    {
     "data": {
      "application/vnd.jupyter.widget-view+json": {
       "model_id": "f0b99e53a92c408ebe73014403d5bd63",
       "version_major": 2,
       "version_minor": 0
      },
      "text/plain": [
       "Validation: |                                                                                                 …"
      ]
     },
     "metadata": {},
     "output_type": "display_data"
    },
    {
     "data": {
      "application/vnd.jupyter.widget-view+json": {
       "model_id": "041c9c70e5404db7840b12f3e6b7327d",
       "version_major": 2,
       "version_minor": 0
      },
      "text/plain": [
       "Validation: |                                                                                                 …"
      ]
     },
     "metadata": {},
     "output_type": "display_data"
    },
    {
     "data": {
      "application/vnd.jupyter.widget-view+json": {
       "model_id": "0f1b22ab5814432d8af4b4835cf2834f",
       "version_major": 2,
       "version_minor": 0
      },
      "text/plain": [
       "Validation: |                                                                                                 …"
      ]
     },
     "metadata": {},
     "output_type": "display_data"
    },
    {
     "data": {
      "application/vnd.jupyter.widget-view+json": {
       "model_id": "6375dabeff1d4c4dac144d657f35fa24",
       "version_major": 2,
       "version_minor": 0
      },
      "text/plain": [
       "Validation: |                                                                                                 …"
      ]
     },
     "metadata": {},
     "output_type": "display_data"
    },
    {
     "data": {
      "application/vnd.jupyter.widget-view+json": {
       "model_id": "3b978cea08944290bf7abb21c8ba50eb",
       "version_major": 2,
       "version_minor": 0
      },
      "text/plain": [
       "Validation: |                                                                                                 …"
      ]
     },
     "metadata": {},
     "output_type": "display_data"
    },
    {
     "data": {
      "application/vnd.jupyter.widget-view+json": {
       "model_id": "831d94d40d3d4a8baaa374f626b89828",
       "version_major": 2,
       "version_minor": 0
      },
      "text/plain": [
       "Validation: |                                                                                                 …"
      ]
     },
     "metadata": {},
     "output_type": "display_data"
    },
    {
     "data": {
      "application/vnd.jupyter.widget-view+json": {
       "model_id": "75f8db2b3b74470da2740d039881dbcf",
       "version_major": 2,
       "version_minor": 0
      },
      "text/plain": [
       "Validation: |                                                                                                 …"
      ]
     },
     "metadata": {},
     "output_type": "display_data"
    },
    {
     "data": {
      "application/vnd.jupyter.widget-view+json": {
       "model_id": "2fe5ff5d179a4ea49386a19c69398c13",
       "version_major": 2,
       "version_minor": 0
      },
      "text/plain": [
       "Validation: |                                                                                                 …"
      ]
     },
     "metadata": {},
     "output_type": "display_data"
    },
    {
     "data": {
      "application/vnd.jupyter.widget-view+json": {
       "model_id": "dd6c8c9294b744f8ba2aec55e04e52ea",
       "version_major": 2,
       "version_minor": 0
      },
      "text/plain": [
       "Validation: |                                                                                                 …"
      ]
     },
     "metadata": {},
     "output_type": "display_data"
    },
    {
     "data": {
      "application/vnd.jupyter.widget-view+json": {
       "model_id": "e394486524774fc6860ef075e83a92e2",
       "version_major": 2,
       "version_minor": 0
      },
      "text/plain": [
       "Validation: |                                                                                                 …"
      ]
     },
     "metadata": {},
     "output_type": "display_data"
    },
    {
     "data": {
      "application/vnd.jupyter.widget-view+json": {
       "model_id": "531bc3fa51a2444bbd37ee04d9789370",
       "version_major": 2,
       "version_minor": 0
      },
      "text/plain": [
       "Validation: |                                                                                                 …"
      ]
     },
     "metadata": {},
     "output_type": "display_data"
    },
    {
     "data": {
      "application/vnd.jupyter.widget-view+json": {
       "model_id": "5c6a4c39bdc24f4b8a9f1cd04295615d",
       "version_major": 2,
       "version_minor": 0
      },
      "text/plain": [
       "Validation: |                                                                                                 …"
      ]
     },
     "metadata": {},
     "output_type": "display_data"
    },
    {
     "data": {
      "application/vnd.jupyter.widget-view+json": {
       "model_id": "18e924520f184072955b05a0b0167f6e",
       "version_major": 2,
       "version_minor": 0
      },
      "text/plain": [
       "Validation: |                                                                                                 …"
      ]
     },
     "metadata": {},
     "output_type": "display_data"
    },
    {
     "data": {
      "application/vnd.jupyter.widget-view+json": {
       "model_id": "757b87f0b9c049239f4f839571be4294",
       "version_major": 2,
       "version_minor": 0
      },
      "text/plain": [
       "Validation: |                                                                                                 …"
      ]
     },
     "metadata": {},
     "output_type": "display_data"
    },
    {
     "data": {
      "application/vnd.jupyter.widget-view+json": {
       "model_id": "caa4c78a507e41f798118318b64d9ad2",
       "version_major": 2,
       "version_minor": 0
      },
      "text/plain": [
       "Validation: |                                                                                                 …"
      ]
     },
     "metadata": {},
     "output_type": "display_data"
    },
    {
     "data": {
      "application/vnd.jupyter.widget-view+json": {
       "model_id": "92c75a776e2044cbb5a7deb6dfef99a9",
       "version_major": 2,
       "version_minor": 0
      },
      "text/plain": [
       "Validation: |                                                                                                 …"
      ]
     },
     "metadata": {},
     "output_type": "display_data"
    }
   ],
   "source": [
    "model = model.to(device)\n",
    "\n",
    "# fit the model\n",
    "trainer.fit(\n",
    "    model,\n",
    "    train_dataloaders=train_loader,\n",
    "    val_dataloaders=val_loader,\n",
    ")"
   ]
  },
  {
   "cell_type": "code",
   "execution_count": 67,
   "id": "6c318ac0-675e-48e1-bda1-9dcecb59389a",
   "metadata": {},
   "outputs": [
    {
     "name": "stdout",
     "output_type": "stream",
     "text": [
      "Testing model\n"
     ]
    }
   ],
   "source": [
    "model.eval()\n",
    "print(\"Testing model\")"
   ]
  },
  {
   "cell_type": "code",
   "execution_count": 68,
   "id": "7b680d86-14b6-4a66-a09b-5f61894bae31",
   "metadata": {},
   "outputs": [],
   "source": [
    "test_batch_size = 16\n",
    "test_loader = DataLoader(test_data, batch_size=test_batch_size)"
   ]
  },
  {
   "cell_type": "code",
   "execution_count": 69,
   "id": "5c58697a-4be4-40e3-9c87-5d0d0bd570ad",
   "metadata": {},
   "outputs": [],
   "source": [
    "model.to(\"mps\")\n",
    "results = []\n",
    "\n",
    "for X_batch in test_loader:\n",
    "    X_batch = X_batch[0]  # DataLoader returns a tuple\n",
    "    with torch.no_grad():\n",
    "        outputs = torch.sigmoid(model(X_batch)).cpu()\n",
    "    batch_results = outputs.detach().numpy().squeeze()\n",
    "    results.append(batch_results)\n",
    "\n",
    "y_pred = np.concatenate(results, axis=0)"
   ]
  },
  {
   "cell_type": "code",
   "execution_count": 70,
   "id": "c6c0d157-7b8d-48cc-ab08-32a433134f29",
   "metadata": {},
   "outputs": [
    {
     "name": "stdout",
     "output_type": "stream",
     "text": [
      "Accuracy of 0.91. AUC of 0.908266428783824\n"
     ]
    }
   ],
   "source": [
    "fpr, tpr, _ = roc_curve(y_test, y_pred)\n",
    "auc = roc_auc_score(y_test, y_pred)\n",
    "accuracy = np.sum([round(y_pred[i]) == y_test[i] for i in range(len(y_test))]) / len(y_test)\n",
    "\n",
    "print(f\"Accuracy of {accuracy:.2}. AUC of {auc}\")"
   ]
  },
  {
   "cell_type": "code",
   "execution_count": 71,
   "id": "a7a92a7b-1bbc-49eb-bc14-38d32da80643",
   "metadata": {},
   "outputs": [
    {
     "data": {
      "image/png": "[encoded data removed]",
      "text/plain": [
       "<Figure size 1000x750 with 1 Axes>"
      ]
     },
     "metadata": {},
     "output_type": "display_data"
    }
   ],
   "source": [
    "plt.figure(figsize=(10., 7.5))\n",
    "\n",
    "plt.plot(fpr, tpr, lw=3, c=\"steelblue\")\n",
    "plt.plot(np.linspace(0, 1, 100), np.linspace(0, 1, 100),\n",
    "         c=\"gray\", ls=\"--\", alpha=0.5, lw=3,\n",
    "         )\n",
    "\n",
    "plt.xlabel(\"FPR\", fontsize=14)\n",
    "plt.ylabel(\"TPR\", fontsize=14)\n",
    "\n",
    "plt.xticks(fontsize=12)\n",
    "plt.yticks(fontsize=12)\n",
    "\n",
    "plt.show()"
   ]
  },
  {
   "cell_type": "markdown",
   "id": "4d4a25a7-f718-44db-ac0f-b12c9b4e618a",
   "metadata": {},
   "source": [
    "| Epochs | AUC |\n",
    "|--------|-----|\n",
    "| 5      | 0.62|\n",
    "| 30 (terminated early at 26) | 0.94 |"
   ]
  },
  {
   "cell_type": "code",
   "execution_count": null,
   "id": "5892b98c-1923-47e9-b11a-51823167f266",
   "metadata": {},
   "outputs": [],
   "source": []
  }
 ],
 "metadata": {
  "kernelspec": {
   "display_name": "Python 3 (ipykernel)",
   "language": "python",
   "name": "python3"
  },
  "language_info": {
   "codemirror_mode": {
    "name": "ipython",
    "version": 3
   },
   "file_extension": ".py",
   "mimetype": "text/x-python",
   "name": "python",
   "nbconvert_exporter": "python",
   "pygments_lexer": "ipython3",
   "version": "3.12.9"
  }
 },
 "nbformat": 4,
 "nbformat_minor": 5
}
